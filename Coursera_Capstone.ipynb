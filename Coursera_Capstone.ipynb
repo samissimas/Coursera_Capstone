{
 "cells": [
  {
   "cell_type": "markdown",
   "metadata": {},
   "source": [
    "This notebook is to be used for my IBM Data Science coursera course capstone."
   ]
  },
  {
   "cell_type": "code",
   "execution_count": 4,
   "metadata": {},
   "outputs": [],
   "source": [
    "import pandas as pd\n",
    "import numpy as np"
   ]
  },
  {
   "cell_type": "markdown",
   "metadata": {},
   "source": [
    "Import the geodata file we have found for Colorado"
   ]
  },
  {
   "cell_type": "code",
   "execution_count": 11,
   "metadata": {},
   "outputs": [],
   "source": [
    "df_colorado = pd.read_csv('us-zip-code.csv', sep = \";\")  "
   ]
  },
  {
   "cell_type": "code",
   "execution_count": 12,
   "metadata": {},
   "outputs": [
    {
     "data": {
      "text/html": [
       "<div>\n",
       "<style scoped>\n",
       "    .dataframe tbody tr th:only-of-type {\n",
       "        vertical-align: middle;\n",
       "    }\n",
       "\n",
       "    .dataframe tbody tr th {\n",
       "        vertical-align: top;\n",
       "    }\n",
       "\n",
       "    .dataframe thead th {\n",
       "        text-align: right;\n",
       "    }\n",
       "</style>\n",
       "<table border=\"1\" class=\"dataframe\">\n",
       "  <thead>\n",
       "    <tr style=\"text-align: right;\">\n",
       "      <th></th>\n",
       "      <th>Zip</th>\n",
       "      <th>City</th>\n",
       "      <th>State</th>\n",
       "      <th>Latitude</th>\n",
       "      <th>Longitude</th>\n",
       "      <th>Timezone</th>\n",
       "      <th>Daylight savings time flag</th>\n",
       "      <th>geopoint</th>\n",
       "    </tr>\n",
       "  </thead>\n",
       "  <tbody>\n",
       "    <tr>\n",
       "      <th>0</th>\n",
       "      <td>80309</td>\n",
       "      <td>Boulder</td>\n",
       "      <td>CO</td>\n",
       "      <td>40.087835</td>\n",
       "      <td>-105.373507</td>\n",
       "      <td>-7</td>\n",
       "      <td>1</td>\n",
       "      <td>40.087835,-105.373507</td>\n",
       "    </tr>\n",
       "    <tr>\n",
       "      <th>1</th>\n",
       "      <td>80807</td>\n",
       "      <td>Burlington</td>\n",
       "      <td>CO</td>\n",
       "      <td>39.312400</td>\n",
       "      <td>-102.250940</td>\n",
       "      <td>-7</td>\n",
       "      <td>1</td>\n",
       "      <td>39.3124,-102.25094</td>\n",
       "    </tr>\n",
       "    <tr>\n",
       "      <th>2</th>\n",
       "      <td>81076</td>\n",
       "      <td>Sugar City</td>\n",
       "      <td>CO</td>\n",
       "      <td>38.261440</td>\n",
       "      <td>-103.671010</td>\n",
       "      <td>-7</td>\n",
       "      <td>1</td>\n",
       "      <td>38.26144,-103.67101</td>\n",
       "    </tr>\n",
       "    <tr>\n",
       "      <th>3</th>\n",
       "      <td>80525</td>\n",
       "      <td>Fort Collins</td>\n",
       "      <td>CO</td>\n",
       "      <td>40.532354</td>\n",
       "      <td>-105.053500</td>\n",
       "      <td>-7</td>\n",
       "      <td>1</td>\n",
       "      <td>40.532354,-105.0535</td>\n",
       "    </tr>\n",
       "    <tr>\n",
       "      <th>4</th>\n",
       "      <td>80610</td>\n",
       "      <td>Ault</td>\n",
       "      <td>CO</td>\n",
       "      <td>40.617980</td>\n",
       "      <td>-104.667620</td>\n",
       "      <td>-7</td>\n",
       "      <td>1</td>\n",
       "      <td>40.61798,-104.66762</td>\n",
       "    </tr>\n",
       "  </tbody>\n",
       "</table>\n",
       "</div>"
      ],
      "text/plain": [
       "     Zip          City State   Latitude   Longitude  Timezone  \\\n",
       "0  80309       Boulder    CO  40.087835 -105.373507        -7   \n",
       "1  80807    Burlington    CO  39.312400 -102.250940        -7   \n",
       "2  81076    Sugar City    CO  38.261440 -103.671010        -7   \n",
       "3  80525  Fort Collins    CO  40.532354 -105.053500        -7   \n",
       "4  80610          Ault    CO  40.617980 -104.667620        -7   \n",
       "\n",
       "   Daylight savings time flag               geopoint  \n",
       "0                           1  40.087835,-105.373507  \n",
       "1                           1     39.3124,-102.25094  \n",
       "2                           1    38.26144,-103.67101  \n",
       "3                           1    40.532354,-105.0535  \n",
       "4                           1    40.61798,-104.66762  "
      ]
     },
     "execution_count": 12,
     "metadata": {},
     "output_type": "execute_result"
    }
   ],
   "source": [
    "df_colorado.head()"
   ]
  },
  {
   "cell_type": "markdown",
   "metadata": {},
   "source": [
    "Take only the Denver data points and drop all unneccesary columns"
   ]
  },
  {
   "cell_type": "code",
   "execution_count": 14,
   "metadata": {},
   "outputs": [],
   "source": [
    "df_denver = df_colorado[df_colorado['City']==\"Denver\"]"
   ]
  },
  {
   "cell_type": "code",
   "execution_count": 19,
   "metadata": {},
   "outputs": [],
   "source": [
    "df_denver = df_denver.drop(columns = [\"Timezone\", \"Daylight savings time flag\",\"geopoint\"])"
   ]
  },
  {
   "cell_type": "markdown",
   "metadata": {},
   "source": [
    "Sort values by zipcode and then make that the index"
   ]
  },
  {
   "cell_type": "code",
   "execution_count": 22,
   "metadata": {},
   "outputs": [
    {
     "data": {
      "text/html": [
       "<div>\n",
       "<style scoped>\n",
       "    .dataframe tbody tr th:only-of-type {\n",
       "        vertical-align: middle;\n",
       "    }\n",
       "\n",
       "    .dataframe tbody tr th {\n",
       "        vertical-align: top;\n",
       "    }\n",
       "\n",
       "    .dataframe thead th {\n",
       "        text-align: right;\n",
       "    }\n",
       "</style>\n",
       "<table border=\"1\" class=\"dataframe\">\n",
       "  <thead>\n",
       "    <tr style=\"text-align: right;\">\n",
       "      <th></th>\n",
       "      <th>City</th>\n",
       "      <th>State</th>\n",
       "      <th>Latitude</th>\n",
       "      <th>Longitude</th>\n",
       "    </tr>\n",
       "    <tr>\n",
       "      <th>Zip</th>\n",
       "      <th></th>\n",
       "      <th></th>\n",
       "      <th></th>\n",
       "      <th></th>\n",
       "    </tr>\n",
       "  </thead>\n",
       "  <tbody>\n",
       "    <tr>\n",
       "      <th>80201</th>\n",
       "      <td>Denver</td>\n",
       "      <td>CO</td>\n",
       "      <td>39.726303</td>\n",
       "      <td>-104.856808</td>\n",
       "    </tr>\n",
       "    <tr>\n",
       "      <th>80202</th>\n",
       "      <td>Denver</td>\n",
       "      <td>CO</td>\n",
       "      <td>39.751586</td>\n",
       "      <td>-104.996990</td>\n",
       "    </tr>\n",
       "    <tr>\n",
       "      <th>80203</th>\n",
       "      <td>Denver</td>\n",
       "      <td>CO</td>\n",
       "      <td>39.731286</td>\n",
       "      <td>-104.983060</td>\n",
       "    </tr>\n",
       "    <tr>\n",
       "      <th>80204</th>\n",
       "      <td>Denver</td>\n",
       "      <td>CO</td>\n",
       "      <td>39.734686</td>\n",
       "      <td>-105.019660</td>\n",
       "    </tr>\n",
       "    <tr>\n",
       "      <th>80205</th>\n",
       "      <td>Denver</td>\n",
       "      <td>CO</td>\n",
       "      <td>39.758986</td>\n",
       "      <td>-104.966780</td>\n",
       "    </tr>\n",
       "  </tbody>\n",
       "</table>\n",
       "</div>"
      ],
      "text/plain": [
       "         City State   Latitude   Longitude\n",
       "Zip                                       \n",
       "80201  Denver    CO  39.726303 -104.856808\n",
       "80202  Denver    CO  39.751586 -104.996990\n",
       "80203  Denver    CO  39.731286 -104.983060\n",
       "80204  Denver    CO  39.734686 -105.019660\n",
       "80205  Denver    CO  39.758986 -104.966780"
      ]
     },
     "execution_count": 22,
     "metadata": {},
     "output_type": "execute_result"
    }
   ],
   "source": [
    "df_denver = df_denver.sort_values(by=['Zip'])\n",
    "df_denver = df_denver.set_index('Zip')\n",
    "df_denver.head()"
   ]
  },
  {
   "cell_type": "code",
   "execution_count": 25,
   "metadata": {},
   "outputs": [
    {
     "data": {
      "text/plain": [
       "(75, 4)"
      ]
     },
     "execution_count": 25,
     "metadata": {},
     "output_type": "execute_result"
    }
   ],
   "source": [
    "df_denver.shape"
   ]
  },
  {
   "cell_type": "code",
   "execution_count": null,
   "metadata": {},
   "outputs": [],
   "source": []
  }
 ],
 "metadata": {
  "kernelspec": {
   "display_name": "Python 3",
   "language": "python",
   "name": "python3"
  },
  "language_info": {
   "codemirror_mode": {
    "name": "ipython",
    "version": 3
   },
   "file_extension": ".py",
   "mimetype": "text/x-python",
   "name": "python",
   "nbconvert_exporter": "python",
   "pygments_lexer": "ipython3",
   "version": "3.6.5"
  }
 },
 "nbformat": 4,
 "nbformat_minor": 2
}
